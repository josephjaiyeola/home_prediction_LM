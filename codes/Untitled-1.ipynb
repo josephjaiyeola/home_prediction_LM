{
 "cells": [
  {
   "cell_type": "code",
   "execution_count": 1,
   "metadata": {},
   "outputs": [
    {
     "name": "stdout",
     "output_type": "stream",
     "text": [
      "Hostage rescue\n",
      "Move commands: go south, go north, go east, go west\n",
      "Add to inventory: get 'item name'\n",
      "You are in START\n",
      "Inventory: []\n"
     ]
    }
   ],
   "source": [
    "# define an inventory, which is initially empty\n",
    "inventory = []\n",
    "\n",
    "# a dictionary linking a room to other rooms\n",
    "rooms = {\n",
    "    'START': {'North': 'Janitor’s room', 'West': 'Security room', 'South': 'Principal office', 'East': 'Classroom A'},\n",
    "    'Janitor’s room': {'South': 'START', 'West': 'Clinic', 'item': 'Classroom A key'},\n",
    "    'Clinic': {'East': 'Janitor’s room', 'item': 'first aid box'},\n",
    "    'Security room': {'East': 'START', 'South': 'Protective gear room', 'item': 'radio'},\n",
    "    'Protective gear room': {'North': 'Security room', 'item': 'bullet proof vest'},\n",
    "    'Principal office': {'North': 'START', 'West': 'Armor room', 'item': 'map'},\n",
    "    'Armor room': {'East': 'Principal office', 'item': 'gun'},\n",
    "    'Classroom A': {'West': 'START'}\n",
    "}\n",
    "\n",
    "DIRECTIONS = ['North', 'South', 'East', 'West']\n",
    "EXIT_COMMAND = \"Exit\"\n",
    "VALID_INPUTS = DIRECTIONS + [EXIT_COMMAND]\n",
    "INVALID_DIRECTION = \"That is not a valid direction. You need to enter one of: \" + str(VALID_INPUTS) + \".\"\n",
    "CANNOT_GO_THAT_WAY = \"You bumped into a wall.\"\n",
    "GAME_OVER = \"Thanks for playing.\"\n",
    "EXIT_ROOM_SENTINEL = \"exit\"\n",
    "\n",
    "\n",
    "def show_instructions():\n",
    "    print(\"Hostage rescue\")\n",
    "    print(\"Move commands: go south, go north, go east, go west\")\n",
    "    print(\"Add to inventory: get 'item name'\")\n",
    "\n",
    "\n",
    "def show_status(current_room, inventory, rooms):\n",
    "    print(\"You are in\", current_room)\n",
    "    print(\"Inventory:\", inventory)\n",
    "    if 'item' in rooms[current_room]:\n",
    "        print(\"You see a\", rooms[current_room]['item'])\n",
    "\n",
    "\n",
    "def main():\n",
    "    # start the player in the START\n",
    "    current_room = 'START'\n",
    "\n",
    "    # show the player the game instructions\n",
    "    show_instructions()\n",
    "\n",
    "    # loop forever\n",
    "    while True:\n",
    "        # show player's status\n",
    "        show_status(current_room, inventory, rooms)\n",
    "\n",
    "        # check if there is an item in the current room\n",
    "        if 'item' in rooms[current_room]:\n",
    "            action = input(\"Do you want to pick up the \" + rooms[current_room]['item'] + \"? (yes/no): \").lower()\n",
    "            if action == 'yes':\n",
    "                inventory.append(rooms[current_room]['item'])\n",
    "                del rooms[current_room]['item']\n",
    "\n",
    "        # get the player's next 'move'\n",
    "        move = input(\"Enter your move: \").lower().split()\n",
    "\n",
    "        # handle the move\n",
    "        if move[0] == 'go':\n",
    "            if move[1] in rooms[current_room]:\n",
    "                current_room = rooms[current_room][move[1]]\n",
    "            else:\n",
    "                print(CANNOT_GO_THAT_WAY)\n",
    "        elif move[0] == EXIT_COMMAND:\n",
    "            print(GAME_OVER)\n",
    "            break\n",
    "        else:\n",
    "            print(INVALID_DIRECTION)\n",
    "\n",
    "        # check win/lose conditions\n",
    "        if current_room == 'Classroom A' and len(inventory) == len(rooms) - 1:\n",
    "            print(\"Congratulations! You have successfully rescued the hostages.\")\n",
    "            break\n",
    "\n",
    "# Run the game\n",
    "if __name__ == \"__main__\":\n",
    "    main()\n"
   ]
  },
  {
   "cell_type": "code",
   "execution_count": null,
   "metadata": {},
   "outputs": [],
   "source": []
  },
  {
   "cell_type": "code",
   "execution_count": null,
   "metadata": {},
   "outputs": [],
   "source": []
  }
 ],
 "metadata": {
  "kernelspec": {
   "display_name": "base",
   "language": "python",
   "name": "python3"
  },
  "language_info": {
   "codemirror_mode": {
    "name": "ipython",
    "version": 3
   },
   "file_extension": ".py",
   "mimetype": "text/x-python",
   "name": "python",
   "nbconvert_exporter": "python",
   "pygments_lexer": "ipython3",
   "version": "3.9.12"
  },
  "orig_nbformat": 4
 },
 "nbformat": 4,
 "nbformat_minor": 2
}
